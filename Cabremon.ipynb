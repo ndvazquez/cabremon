{
 "cells": [
  {
   "cell_type": "markdown",
   "metadata": {},
   "source": [
    "# Cabremon\n",
    "\n",
    "Presentación del trabajo"
   ]
  },
  {
   "cell_type": "markdown",
   "metadata": {},
   "source": [
    "### Instalación\n",
    "\n",
    "Install IPython and Jupyter:\n",
    "\n",
    "with conda:\n",
    "\n",
    "conda install ipython jupyter\n",
    "\n",
    "with pip:\n",
    "\n",
    "pip install --upgrade pip\n",
    "pip install --upgrade ipython jupyter\n",
    "\n",
    "Para correrlo: terminal en la carpeta que tiene el notebook, $ jupyter notebook"
   ]
  },
  {
   "cell_type": "markdown",
   "metadata": {},
   "source": [
    "## Creación de la clase Pokemon\n",
    "Descripción clase pokemon"
   ]
  },
  {
   "cell_type": "code",
   "execution_count": 1,
   "metadata": {
    "collapsed": true
   },
   "outputs": [],
   "source": [
    "class Pokemon:\n",
    "    \"\"\"Criatura legendaria que puede batallar.\"\"\"\n",
    "    def __init__(self, name, hp, atk, defense, pokemonType):\n",
    "        self.name = name\n",
    "        self.hp = hp\n",
    "        self.atk = atk\n",
    "        self.defense = defense\n",
    "        self.pokemonType = pokemonType"
   ]
  },
  {
   "cell_type": "markdown",
   "metadata": {},
   "source": [
    "## Creación de los tipos\n",
    "\n",
    "Fuente: https://bulbapedia.bulbagarden.net/wiki/Type/Type_chart generacion I\n",
    "\n",
    "Copy paste de la tablita de fortalezas."
   ]
  },
  {
   "cell_type": "code",
   "execution_count": 29,
   "metadata": {},
   "outputs": [],
   "source": [
    "class PokemonType:\n",
    "    \"\"\"Clase que representa un tipo del mundo pokemon.\"\"\"\n",
    "    \n",
    "    ''' Recibe un diccionario con clave un tipo, y valor el multiplicador'''\n",
    "    def __init__(self, name, multiplier):\n",
    "        self.name = name\n",
    "        self.multiplier = multiplier \n",
    "\n",
    "    def get_multiplier(other):\n",
    "        if (other.name not in multiplier): return 1\n",
    "        return self.multiplier[other.name]\n",
    "    \n",
    "\n",
    "tipos = [\"Normal\", \"Fight\", \"Flying\", \"Poison\", \"Ground\", \"Rock\", \"Bug\", \"Ghost\", \"Fire\", \"Water\", \"Grass\", \"Electric\", \"Psychic\", \"Ice\", \"Dragon\"]\n",
    "\n",
    "multiplier_normal = {\"Rock\": 0.5, \"Ghost\": 0}\n",
    "multiplier_fight = {\"Normal\": 2, \"Flying\": 0.5, \"Poison\": 0.5, \"Rock\": 2, \"Bug\": 0.5, \"Ghost\": 0, \"Psychic\": 0.5, \"Ice\": 2}\n",
    "multiplier_flying = {\"Fight\": 2, \"Rock\": 0.5, \"Bug\": 2, \"Grass\": 2, \"Electric\": 0.5}\n",
    "multiplier_poison = {\"Poison\": 0.5, \"Ground\": 0.5, \"Rock\": 0.5, \"Bug\": 2, \"Ghost\": 0.5, \"Grass\": 2}\n",
    "multiplier_ground = {\"Flying\": 0, \"Poison\": 2, \"Rock\": 2, \"Bug\": 0.5, \"Fire\": 2, \"Grass\": 0.5, \"Electric\": 2}\n",
    "multiplier_rock = {\"Fight\": 0.5, \"Flying\": 0.5, \"Ground\": 0.5, \"Bug\": 2, \"Fire\": 2, \"Ice\": 2}\n",
    "multiplier_bug = {\"Fight\": 0.5, \"Flying\": 0.5, \"Poison\": 2, \"Ghost\": 0.5, \"Fire\": 0.5, \"Grass\": 2, \"Psychic\": 2}\n",
    "multiplier_ghost = {\"Normal\": 0, \"Ghost\": 2, \"Psychic\": 0}\n",
    "multiplier_fire = {\"Rock\": 0.5, \"Bug\": 2, \"Fire\": 0.5, \"Water\": 0.5, \"Grass\": 2, \"Ice\": 2, \"Dragon\": 0.5}\n",
    "multiplier_water = {\"Ground\": 2, \"Rock\": 2, \"Fire\": 2, \"Water\": 0.5, \"Grass\": 0.5, \"Dragon\": 0.5}\n",
    "multiplier_grass = {\"Flying\": 0.5, \"Poison\": 0.5, \"Ground\": 2, \"Rock\": 2, \"Bug\": 0.5, \"Fire\": 0.5, \"Water\": 2, \"Grass\": 0.5, \"Dragon\": 0.5}\n",
    "multiplier_electric = {\"Flying\": 2, \"Ground\": 0, \"Water\": 2, \"Grass\": 0.5, \"Electric\": 0.5, \"Dragon\": 0.5}\n",
    "multiplier_psychic = {\"Fight\": 2, \"Poison\": 2, \"Psychic\": 0.5}\n",
    "multiplier_ice = {\"Flying\": 2, \"Ground\": 2, \"Water\": 0.5, \"Grass\": 2, \"Ice\": 0.5, \"Dragon\": 2}\n",
    "multiplier_dragon = {\"Dragon\": 2}\n",
    "\n",
    "\n",
    "Normal_type = PokemonType(tipos[0], multiplier_normal)\n",
    "Fight_type = PokemonType(tipos[1], multiplier_fight)\n",
    "Flying_type = PokemonType(tipos[2], multiplier_flying)\n",
    "Poison_type = PokemonType(tipos[3], multiplier_poison)\n",
    "Ground_type = PokemonType(tipos[4], multiplier_ground)\n",
    "Rock_type = PokemonType(tipos[5], multiplier_rock)\n",
    "Bug_type = PokemonType(tipos[6], multiplier_bug)\n",
    "Ghost_type = PokemonType(tipos[7], multiplier_ghost)\n",
    "Fire_type = PokemonType(tipos[8], multiplier_fire)\n",
    "Water_type = PokemonType(tipos[9], multiplier_water)\n",
    "Grass_type = PokemonType(tipos[10], multiplier_grass)\n",
    "Electric_type = PokemonType(tipos[11], multiplier_electric)\n",
    "Psychic_type = PokemonType(tipos[12], multiplier_psychic)\n",
    "Ice_type = PokemonType(tipos[13], multiplier_ice)\n",
    "Dragon_type = PokemonType(tipos[14], multiplier_dragon)"
   ]
  },
  {
   "cell_type": "code",
   "execution_count": 28,
   "metadata": {},
   "outputs": [
    {
     "name": "stdout",
     "output_type": "stream",
     "text": [
      "100\n",
      "True\n"
     ]
    }
   ],
   "source": [
    "charmander = Pokemon('Charmander', 100, 30, 20, Fire_type)\n",
    "print(charmander.hp)"
   ]
  },
  {
   "cell_type": "code",
   "execution_count": null,
   "metadata": {
    "collapsed": true
   },
   "outputs": [],
   "source": []
  }
 ],
 "metadata": {
  "kernelspec": {
   "display_name": "Python 3",
   "language": "python",
   "name": "python3"
  },
  "language_info": {
   "codemirror_mode": {
    "name": "ipython",
    "version": 3
   },
   "file_extension": ".py",
   "mimetype": "text/x-python",
   "name": "python",
   "nbconvert_exporter": "python",
   "pygments_lexer": "ipython3",
   "version": "3.6.1"
  }
 },
 "nbformat": 4,
 "nbformat_minor": 2
}
