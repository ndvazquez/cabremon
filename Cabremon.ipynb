{
 "cells": [
  {
   "cell_type": "markdown",
   "metadata": {},
   "source": [
    "# Cabremon\n",
    "\n",
    "Presentación del trabajo"
   ]
  },
  {
   "cell_type": "markdown",
   "metadata": {},
   "source": [
    "### Instalación\n",
    "\n",
    "Install IPython and Jupyter:\n",
    "\n",
    "with conda:\n",
    "\n",
    "conda install ipython jupyter\n",
    "\n",
    "with pip:\n",
    "\n",
    "pip install --upgrade pip\n",
    "pip install --upgrade ipython jupyter\n",
    "\n",
    "Para correrlo: terminal en la carpeta que tiene el notebook, $ jupyter notebook"
   ]
  },
  {
   "cell_type": "markdown",
   "metadata": {},
   "source": [
    "## Imports y definición de constantes"
   ]
  },
  {
   "cell_type": "code",
   "execution_count": 185,
   "metadata": {
    "collapsed": true
   },
   "outputs": [],
   "source": [
    "import random"
   ]
  },
  {
   "cell_type": "markdown",
   "metadata": {},
   "source": [
    "## Creación de la clase Pokemon\n",
    "Descripción clase pokemon"
   ]
  },
  {
   "cell_type": "code",
   "execution_count": 186,
   "metadata": {
    "collapsed": true
   },
   "outputs": [],
   "source": [
    "class Pokemon:\n",
    "    \"\"\"Criatura legendaria que puede batallar.\"\"\"\n",
    "    def __init__(self, name, hp, atk, defense, speed, pokemonType):\n",
    "        self.name = name\n",
    "        self.hp = hp\n",
    "        self.atk = atk\n",
    "        self.defense = defense\n",
    "        self.speed = speed\n",
    "        self.pokemonType = pokemonType\n",
    "        \n",
    "    def __str__(self):\n",
    "        return self.name\n",
    "    \n",
    "    def copy(self):\n",
    "        new_one = Pokemon(self.name, self.hp, self.atk, self.defense, self.speed, self.pokemonType)\n",
    "        return new_one\n",
    "    \n",
    "    def is_alive(self):\n",
    "        return (self.hp > 0)"
   ]
  },
  {
   "cell_type": "markdown",
   "metadata": {},
   "source": [
    "## Creación de los tipos\n",
    "\n",
    "Fuente: https://bulbapedia.bulbagarden.net/wiki/Type/Type_chart generacion I\n",
    "\n",
    "Copy paste de la tablita de fortalezas."
   ]
  },
  {
   "cell_type": "code",
   "execution_count": 187,
   "metadata": {
    "collapsed": true
   },
   "outputs": [],
   "source": [
    "class PokemonType:\n",
    "    \"\"\"Clase que representa un tipo del mundo pokemon.\"\"\"\n",
    "    \n",
    "    ''' Recibe un diccionario con clave un tipo, y valor el multiplicador'''\n",
    "    def __init__(self, name, multiplier):\n",
    "        self.name = name\n",
    "        self.multiplier = multiplier\n",
    "\n",
    "    def get_multiplier(self, other):\n",
    "        if (other.name not in self.multiplier): return 1\n",
    "        return self.multiplier[other.name]\n",
    "    \n",
    "\n",
    "tipos = [\"Normal\", \"Fight\", \"Flying\", \"Poison\", \"Ground\", \"Rock\", \"Bug\", \"Ghost\", \"Fire\", \"Water\", \"Grass\", \"Electric\", \"Psychic\", \"Ice\", \"Dragon\"]\n",
    "\n",
    "multiplier_normal = {\"Rock\": 0.5, \"Ghost\": 0}\n",
    "multiplier_fight = {\"Normal\": 2, \"Flying\": 0.5, \"Poison\": 0.5, \"Rock\": 2, \"Bug\": 0.5, \"Ghost\": 0, \"Psychic\": 0.5, \"Ice\": 2}\n",
    "multiplier_flying = {\"Fight\": 2, \"Rock\": 0.5, \"Bug\": 2, \"Grass\": 2, \"Electric\": 0.5}\n",
    "multiplier_poison = {\"Poison\": 0.5, \"Ground\": 0.5, \"Rock\": 0.5, \"Bug\": 2, \"Ghost\": 0.5, \"Grass\": 2}\n",
    "multiplier_ground = {\"Flying\": 0, \"Poison\": 2, \"Rock\": 2, \"Bug\": 0.5, \"Fire\": 2, \"Grass\": 0.5, \"Electric\": 2}\n",
    "multiplier_rock = {\"Fight\": 0.5, \"Flying\": 0.5, \"Ground\": 0.5, \"Bug\": 2, \"Fire\": 2, \"Ice\": 2}\n",
    "multiplier_bug = {\"Fight\": 0.5, \"Flying\": 0.5, \"Poison\": 2, \"Ghost\": 0.5, \"Fire\": 0.5, \"Grass\": 2, \"Psychic\": 2}\n",
    "multiplier_ghost = {\"Normal\": 0, \"Ghost\": 2, \"Psychic\": 0}\n",
    "multiplier_fire = {\"Rock\": 0.5, \"Bug\": 2, \"Fire\": 0.5, \"Water\": 0.5, \"Grass\": 2, \"Ice\": 2, \"Dragon\": 0.5}\n",
    "multiplier_water = {\"Ground\": 2, \"Rock\": 2, \"Fire\": 2, \"Water\": 0.5, \"Grass\": 0.5, \"Dragon\": 0.5}\n",
    "multiplier_grass = {\"Flying\": 0.5, \"Poison\": 0.5, \"Ground\": 2, \"Rock\": 2, \"Bug\": 0.5, \"Fire\": 0.5, \"Water\": 2, \"Grass\": 0.5, \"Dragon\": 0.5}\n",
    "multiplier_electric = {\"Flying\": 2, \"Ground\": 0, \"Water\": 2, \"Grass\": 0.5, \"Electric\": 0.5, \"Dragon\": 0.5}\n",
    "multiplier_psychic = {\"Fight\": 2, \"Poison\": 2, \"Psychic\": 0.5}\n",
    "multiplier_ice = {\"Flying\": 2, \"Ground\": 2, \"Water\": 0.5, \"Grass\": 2, \"Ice\": 0.5, \"Dragon\": 2}\n",
    "multiplier_dragon = {\"Dragon\": 2}\n",
    "\n",
    "\n",
    "Normal_type = PokemonType(tipos[0], multiplier_normal)\n",
    "Fight_type = PokemonType(tipos[1], multiplier_fight)\n",
    "Flying_type = PokemonType(tipos[2], multiplier_flying)\n",
    "Poison_type = PokemonType(tipos[3], multiplier_poison)\n",
    "Ground_type = PokemonType(tipos[4], multiplier_ground)\n",
    "Rock_type = PokemonType(tipos[5], multiplier_rock)\n",
    "Bug_type = PokemonType(tipos[6], multiplier_bug)\n",
    "Ghost_type = PokemonType(tipos[7], multiplier_ghost)\n",
    "Fire_type = PokemonType(tipos[8], multiplier_fire)\n",
    "Water_type = PokemonType(tipos[9], multiplier_water)\n",
    "Grass_type = PokemonType(tipos[10], multiplier_grass)\n",
    "Electric_type = PokemonType(tipos[11], multiplier_electric)\n",
    "Psychic_type = PokemonType(tipos[12], multiplier_psychic)\n",
    "Ice_type = PokemonType(tipos[13], multiplier_ice)\n",
    "Dragon_type = PokemonType(tipos[14], multiplier_dragon)"
   ]
  },
  {
   "cell_type": "markdown",
   "metadata": {},
   "source": [
    "## Modelado de las batallas\n",
    "1 vs 1\n",
    "Team vs team"
   ]
  },
  {
   "cell_type": "code",
   "execution_count": 188,
   "metadata": {},
   "outputs": [],
   "source": [
    "class IndividualBattle:\n",
    "    \"\"\"Clase que representa una batalla 1vs1.\"\"\"\n",
    "    def __init__(self):\n",
    "        pass\n",
    "    \n",
    "    def simulateBattle(self, pokemon1, pokemon2):\n",
    "        if pokemon1.speed > pokemon2.speed:\n",
    "            attacker = pokemon1 \n",
    "        elif pokemon2.speed > pokemon1.speed:\n",
    "            attacker = pokemon2\n",
    "        else: \n",
    "            if (random.randint(0,1) == 0):\n",
    "                attacker = pokemon1\n",
    "            else:\n",
    "                attacker = pokemon2\n",
    "        defensor = (pokemon1 if attacker == pokemon2 else pokemon2)\n",
    "        while(pokemon1.is_alive() and pokemon2.is_alive()):\n",
    "            damage = attacker.atk * attacker.pokemonType.get_multiplier(defensor.pokemonType) - defensor.defense\n",
    "            defensor.hp -= damage if (damage >= 0) else 0\n",
    "            attacker, defensor = defensor, attacker     "
   ]
  },
  {
   "cell_type": "markdown",
   "metadata": {},
   "source": [
    "## Modelado de los equipos"
   ]
  },
  {
   "cell_type": "code",
   "execution_count": 189,
   "metadata": {},
   "outputs": [],
   "source": [
    "class PokemonTeam:\n",
    "    \"\"\"Clase que representa una batalla 1vs1.\"\"\"\n",
    "    def __init__(self, lista_pokemons):\n",
    "        self.pokemons = lista_pokemons\n",
    "        \n",
    "    def copy(self):\n",
    "        new_list = []\n",
    "        for i in range(len(self.pokemons)):\n",
    "            new_list.append(self.pokemons[i].copy())\n",
    "        new_one = PokemonTeam(new_list)\n",
    "        return new_one\n",
    "        \n",
    "    def is_alive(self):\n",
    "        for i in range(len(self.pokemons)):\n",
    "            if (not self.pokemons[i].is_alive()): return False\n",
    "        return True\n",
    "    \n",
    "    def get_random_pokemon(self):\n",
    "        if (not self.is_alive()): return None\n",
    "        selected_pokemon = self.pokemons[random.randint(0, len(self.pokemons) - 1)]\n",
    "        while(not selected_pokemon.is_alive):\n",
    "            selected_pokemon = self.pokemons[random.randint(0, len(self.pokemons) - 1)]\n",
    "        return selected_pokemon"
   ]
  },
  {
   "cell_type": "markdown",
   "metadata": {},
   "source": [
    "## Modelado de las batallas grupales\n",
    "6 vs 6, elección aleatoria de los pokemons, N iteraciones"
   ]
  },
  {
   "cell_type": "code",
   "execution_count": 190,
   "metadata": {},
   "outputs": [],
   "source": [
    "class TeamBattle:\n",
    "    \"\"\"Clase que representa una batalla entre dos equipos con N simulaciones.\"\"\"\n",
    "    def __init__(self):\n",
    "        pass\n",
    "    \n",
    "    ''' Simula number_simulations peleas grupales. Cada una selecciona un pokemon al azar de cada equipo, \n",
    "        los hace batallar  y vuelve a seleccionar a otros dos para que batallen, continuando hasta que \n",
    "        alguno de los dos equipos pierda a todos sus pokemons.\n",
    "        Devuelve 1 si gana el equipo 1 y 2 si gana el segundo '''\n",
    "    def simulateBattle(self, team1, team2, number_simulations):\n",
    "        team1_won = 0;\n",
    "        team2_won = 0;\n",
    "        individual_battle = IndividualBattle()\n",
    "        for i in range(number_simulations):\n",
    "            team1_copy = team1.copy()\n",
    "            team2_copy = team2.copy()\n",
    "            while(team1_copy.is_alive() and team2_copy.is_alive()):\n",
    "                selected_pokemon_team1 = team1_copy.get_random_pokemon()\n",
    "                selected_pokemon_team2 = team2_copy.get_random_pokemon()   \n",
    "                individual_battle.simulateBattle(selected_pokemon_team1, selected_pokemon_team2)\n",
    "            if(team1_copy.is_alive()):\n",
    "                team1_won += 1\n",
    "            else:\n",
    "                team2_won += 1\n",
    "                \n",
    "        print(\"DEBUG: t1 = \",team1_won, \", t2 = \", team2_won)\n",
    "        return (1 if (team1_won > team2_won) else 2)"
   ]
  },
  {
   "cell_type": "code",
   "execution_count": 239,
   "metadata": {},
   "outputs": [
    {
     "name": "stdout",
     "output_type": "stream",
     "text": [
      "DEBUG: t1 =  44 , t2 =  56\n",
      "2\n",
      "100\n",
      "100\n"
     ]
    }
   ],
   "source": [
    "charmander = Pokemon('Charmander', 100, 30, 0, 10, Fire_type)\n",
    "bulbasor = Pokemon('Bulbasor', 100, 40, 0, 10, Grass_type)\n",
    "\n",
    "team1_pokemons = [charmander.copy(), bulbasor.copy(), bulbasor.copy()]\n",
    "team2_pokemons = [bulbasor.copy(), bulbasor.copy(), charmander.copy()]\n",
    "\n",
    "team1 = PokemonTeam(team1_pokemons)\n",
    "team2 = PokemonTeam(team2_pokemons)\n",
    "\n",
    "\n",
    "TB = TeamBattle()\n",
    "print(TB.simulateBattle(team1, team2, 100))\n",
    "print(charmander.hp)\n",
    "print(bulbasor.hp)"
   ]
  }
 ],
 "metadata": {
  "kernelspec": {
   "display_name": "Python 3",
   "language": "python",
   "name": "python3"
  },
  "language_info": {
   "codemirror_mode": {
    "name": "ipython",
    "version": 3
   },
   "file_extension": ".py",
   "mimetype": "text/x-python",
   "name": "python",
   "nbconvert_exporter": "python",
   "pygments_lexer": "ipython3",
   "version": "3.6.1"
  }
 },
 "nbformat": 4,
 "nbformat_minor": 2
}
