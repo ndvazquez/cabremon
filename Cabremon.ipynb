{
 "cells": [
  {
   "cell_type": "markdown",
   "metadata": {},
   "source": [
    "# Cabremon\n",
    "\n",
    "Presentación del trabajo"
   ]
  },
  {
   "cell_type": "markdown",
   "metadata": {},
   "source": [
    "### Instalación\n",
    "\n",
    "Install IPython and Jupyter:\n",
    "\n",
    "with conda:\n",
    "\n",
    "conda install ipython jupyter\n",
    "\n",
    "with pip:\n",
    "\n",
    "pip install --upgrade pip\n",
    "pip install --upgrade ipython jupyter\n",
    "\n",
    "Para correrlo: terminal en la carpeta que tiene el notebook, $ jupyter notebook"
   ]
  },
  {
   "cell_type": "markdown",
   "metadata": {},
   "source": [
    "## Imports y definición de constantes"
   ]
  },
  {
   "cell_type": "code",
   "execution_count": 1,
   "metadata": {},
   "outputs": [],
   "source": [
    "import random"
   ]
  },
  {
   "cell_type": "markdown",
   "metadata": {},
   "source": [
    "## Creación de la clase Pokemon\n",
    "Descripción clase pokemon"
   ]
  },
  {
   "cell_type": "code",
   "execution_count": 2,
   "metadata": {},
   "outputs": [],
   "source": [
    "class Pokemon:\n",
    "    \"\"\"Criatura legendaria que puede batallar.\"\"\"\n",
    "    def __init__(self, name, hp, atk, defense, speed, pokemonType):\n",
    "        self.name = name\n",
    "        self.hp = hp\n",
    "        self.atk = atk\n",
    "        self.defense = defense\n",
    "        self.speed = speed\n",
    "        self.pokemonType = pokemonType\n",
    "        \n",
    "    def __str__(self):\n",
    "        return self.name\n",
    "    \n",
    "    def __repr__(self):\n",
    "        return self.name\n",
    "    \n",
    "    def copy(self):\n",
    "        new_one = Pokemon(self.name, self.hp, self.atk, self.defense, self.speed, self.pokemonType)\n",
    "        return new_one\n",
    "    \n",
    "    def is_alive(self):\n",
    "        return (self.hp > 0)"
   ]
  },
  {
   "cell_type": "markdown",
   "metadata": {},
   "source": [
    "## Creación de los tipos\n",
    "\n",
    "Fuente: https://bulbapedia.bulbagarden.net/wiki/Type/Type_chart generacion I\n",
    "\n",
    "Copy paste de la tablita de fortalezas."
   ]
  },
  {
   "cell_type": "code",
   "execution_count": 3,
   "metadata": {},
   "outputs": [],
   "source": [
    "class PokemonType:\n",
    "    \"\"\"Clase que representa un tipo del mundo pokemon.\"\"\"\n",
    "    \n",
    "    ''' Recibe un diccionario con clave un tipo, y valor el multiplicador'''\n",
    "    def __init__(self, name, multiplier):\n",
    "        self.name = name\n",
    "        self.multiplier = multiplier\n",
    "\n",
    "    def get_multiplier(self, other):\n",
    "        if (other.name not in self.multiplier): return 1\n",
    "        return self.multiplier[other.name]\n",
    "    \n",
    "\n",
    "tipos = [\"Normal\", \"Fight\", \"Flying\", \"Poison\", \"Ground\", \"Rock\", \"Bug\", \"Ghost\", \"Fire\", \"Water\", \"Grass\", \"Electric\", \"Psychic\", \"Ice\", \"Dragon\"]\n",
    "\n",
    "multiplier_normal = {\"Rock\": 0.5, \"Ghost\": 0}\n",
    "multiplier_fight = {\"Normal\": 2, \"Flying\": 0.5, \"Poison\": 0.5, \"Rock\": 2, \"Bug\": 0.5, \"Ghost\": 0, \"Psychic\": 0.5, \"Ice\": 2}\n",
    "multiplier_flying = {\"Fight\": 2, \"Rock\": 0.5, \"Bug\": 2, \"Grass\": 2, \"Electric\": 0.5}\n",
    "multiplier_poison = {\"Poison\": 0.5, \"Ground\": 0.5, \"Rock\": 0.5, \"Bug\": 2, \"Ghost\": 0.5, \"Grass\": 2}\n",
    "multiplier_ground = {\"Flying\": 0, \"Poison\": 2, \"Rock\": 2, \"Bug\": 0.5, \"Fire\": 2, \"Grass\": 0.5, \"Electric\": 2}\n",
    "multiplier_rock = {\"Fight\": 0.5, \"Flying\": 0.5, \"Ground\": 0.5, \"Bug\": 2, \"Fire\": 2, \"Ice\": 2}\n",
    "multiplier_bug = {\"Fight\": 0.5, \"Flying\": 0.5, \"Poison\": 2, \"Ghost\": 0.5, \"Fire\": 0.5, \"Grass\": 2, \"Psychic\": 2}\n",
    "multiplier_ghost = {\"Normal\": 0, \"Ghost\": 2, \"Psychic\": 0}\n",
    "multiplier_fire = {\"Rock\": 0.5, \"Bug\": 2, \"Fire\": 0.5, \"Water\": 0.5, \"Grass\": 2, \"Ice\": 2, \"Dragon\": 0.5}\n",
    "multiplier_water = {\"Ground\": 2, \"Rock\": 2, \"Fire\": 2, \"Water\": 0.5, \"Grass\": 0.5, \"Dragon\": 0.5}\n",
    "multiplier_grass = {\"Flying\": 0.5, \"Poison\": 0.5, \"Ground\": 2, \"Rock\": 2, \"Bug\": 0.5, \"Fire\": 0.5, \"Water\": 2, \"Grass\": 0.5, \"Dragon\": 0.5}\n",
    "multiplier_electric = {\"Flying\": 2, \"Ground\": 0, \"Water\": 2, \"Grass\": 0.5, \"Electric\": 0.5, \"Dragon\": 0.5}\n",
    "multiplier_psychic = {\"Fight\": 2, \"Poison\": 2, \"Psychic\": 0.5}\n",
    "multiplier_ice = {\"Flying\": 2, \"Ground\": 2, \"Water\": 0.5, \"Grass\": 2, \"Ice\": 0.5, \"Dragon\": 2}\n",
    "multiplier_dragon = {\"Dragon\": 2}\n",
    "\n",
    "\n",
    "Normal_type = PokemonType(tipos[0], multiplier_normal)\n",
    "Fight_type = PokemonType(tipos[1], multiplier_fight)\n",
    "Flying_type = PokemonType(tipos[2], multiplier_flying)\n",
    "Poison_type = PokemonType(tipos[3], multiplier_poison)\n",
    "Ground_type = PokemonType(tipos[4], multiplier_ground)\n",
    "Rock_type = PokemonType(tipos[5], multiplier_rock)\n",
    "Bug_type = PokemonType(tipos[6], multiplier_bug)\n",
    "Ghost_type = PokemonType(tipos[7], multiplier_ghost)\n",
    "Fire_type = PokemonType(tipos[8], multiplier_fire)\n",
    "Water_type = PokemonType(tipos[9], multiplier_water)\n",
    "Grass_type = PokemonType(tipos[10], multiplier_grass)\n",
    "Electric_type = PokemonType(tipos[11], multiplier_electric)\n",
    "Psychic_type = PokemonType(tipos[12], multiplier_psychic)\n",
    "Ice_type = PokemonType(tipos[13], multiplier_ice)\n",
    "Dragon_type = PokemonType(tipos[14], multiplier_dragon)\n",
    "\n",
    "PokemonTypes = {}\n",
    "PokemonTypes[\"Normal\"] = Normal_type\n",
    "PokemonTypes[\"Fighting\"] = Fight_type\n",
    "PokemonTypes[\"Flying\"] = Flying_type\n",
    "PokemonTypes[\"Poison\"] = Poison_type\n",
    "PokemonTypes[\"Ground\"] = Ground_type\n",
    "PokemonTypes[\"Rock\"] = Rock_type\n",
    "PokemonTypes[\"Bug\"] = Bug_type\n",
    "PokemonTypes[\"Ghost\"] = Ghost_type\n",
    "PokemonTypes[\"Fire\"] = Fire_type\n",
    "PokemonTypes[\"Water\"] = Water_type\n",
    "PokemonTypes[\"Grass\"] = Grass_type\n",
    "PokemonTypes[\"Electric\"] = Electric_type\n",
    "PokemonTypes[\"Ice\"] = Ice_type\n",
    "PokemonTypes[\"Dragon\"] = Dragon_type\n",
    "PokemonTypes[\"Psychic\"] = Psychic_type"
   ]
  },
  {
   "cell_type": "markdown",
   "metadata": {},
   "source": [
    "## Modelado de las batallas\n",
    "1 vs 1\n",
    "Team vs team"
   ]
  },
  {
   "cell_type": "code",
   "execution_count": 4,
   "metadata": {},
   "outputs": [],
   "source": [
    "class IndividualBattle:\n",
    "    \"\"\"Clase que representa una batalla 1vs1.\"\"\"\n",
    "    def __init__(self):\n",
    "        pass\n",
    "    \n",
    "    def simulate_battle(self, pokemon1, pokemon2):\n",
    "        if pokemon1.speed > pokemon2.speed:\n",
    "            attacker = pokemon1 \n",
    "        elif pokemon2.speed > pokemon1.speed:\n",
    "            attacker = pokemon2\n",
    "        else: \n",
    "            if (random.randint(0,1) == 0):\n",
    "                attacker = pokemon1\n",
    "            else:\n",
    "                attacker = pokemon2\n",
    "        defensor = (pokemon1 if attacker == pokemon2 else pokemon2)\n",
    "        while(pokemon1.is_alive() and pokemon2.is_alive()):\n",
    "            damage = attacker.atk * attacker.pokemonType.get_multiplier(defensor.pokemonType) - defensor.defense\n",
    "            defensor.hp -= damage if (damage >= 0) else 0\n",
    "            attacker, defensor = defensor, attacker     "
   ]
  },
  {
   "cell_type": "markdown",
   "metadata": {},
   "source": [
    "## Modelado de los equipos"
   ]
  },
  {
   "cell_type": "code",
   "execution_count": 5,
   "metadata": {},
   "outputs": [],
   "source": [
    "class PokemonTeam:\n",
    "    \"\"\"Clase que representa una batalla 1vs1.\"\"\"\n",
    "    def __init__(self, lista_pokemons):\n",
    "        self.pokemons = lista_pokemons\n",
    "        self.score = 0\n",
    "    \n",
    "    def __str__(self):\n",
    "        return \"Team: {0} - Score: {1}\".format(self.pokemons, self.score)\n",
    "    \n",
    "    def __repr__(self):\n",
    "        return \"Team: {0} - Score: {1}\".format(self.pokemons, self.score)\n",
    "    \n",
    "    def add_score(self, battle_result):\n",
    "        self.score += battle_result\n",
    "    \n",
    "    def copy(self):\n",
    "        new_list = []\n",
    "        for i in range(len(self.pokemons)):\n",
    "            new_list.append(self.pokemons[i].copy())\n",
    "        new_one = PokemonTeam(new_list)\n",
    "        return new_one\n",
    "        \n",
    "    def is_alive(self):\n",
    "        for i in range(len(self.pokemons)):\n",
    "            if (not self.pokemons[i].is_alive()): return False\n",
    "        return True\n",
    "    \n",
    "    def get_random_pokemon(self):\n",
    "        if (not self.is_alive()): return None\n",
    "        selected_pokemon = self.pokemons[random.randint(0, len(self.pokemons) - 1)]\n",
    "        while(not selected_pokemon.is_alive()):\n",
    "            selected_pokemon = self.pokemons[random.randint(0, len(self.pokemons) - 1)]\n",
    "        return selected_pokemon\n",
    "    \n",
    "    def merge_team(self,another_team):\n",
    "        new_team_list = self.pokemons[3:]\n",
    "        for i in range(3,6):\n",
    "            new_team_list.append(another_team.pokemons[i])\n",
    "        return PokemonTeam(new_team_list)"
   ]
  },
  {
   "cell_type": "markdown",
   "metadata": {},
   "source": [
    "## Modelado de las batallas grupales\n",
    "6 vs 6, elección aleatoria de los pokemons, N iteraciones"
   ]
  },
  {
   "cell_type": "code",
   "execution_count": 6,
   "metadata": {},
   "outputs": [],
   "source": [
    "class TeamBattle:\n",
    "    \"\"\"Clase que representa una batalla entre dos equipos con N simulaciones.\"\"\"\n",
    "    def __init__(self):\n",
    "        pass\n",
    "    \n",
    "    ''' Simula number_simulations peleas grupales. Cada una selecciona un pokemon al azar de cada equipo, \n",
    "        los hace batallar  y vuelve a seleccionar a otros dos para que batallen, continuando hasta que \n",
    "        alguno de los dos equipos pierda a todos sus pokemons.\n",
    "        Devuelve 1 si gana el equipo 1 y 2 si gana el segundo '''\n",
    "    def simulate_battle(self, team1, team2, number_simulations):\n",
    "        team1_won = 0;\n",
    "        team2_won = 0;\n",
    "        individual_battle = IndividualBattle()\n",
    "        for i in range(number_simulations):\n",
    "            team1_copy = team1.copy()\n",
    "            team2_copy = team2.copy()\n",
    "            while(team1_copy.is_alive() and team2_copy.is_alive()):\n",
    "                selected_pokemon_team1 = team1_copy.get_random_pokemon()\n",
    "                selected_pokemon_team2 = team2_copy.get_random_pokemon()   \n",
    "                individual_battle.simulate_battle(selected_pokemon_team1, selected_pokemon_team2)\n",
    "            if(team1_copy.is_alive()):\n",
    "                team1_won += 1\n",
    "            else:\n",
    "                team2_won += 1\n",
    "                \n",
    "        #print(\"DEBUG: t1 = \",team1_won, \", t2 = \", team2_won)\n",
    "        return (1 if (team1_won > team2_won) else 0)"
   ]
  },
  {
   "cell_type": "code",
   "execution_count": 7,
   "metadata": {},
   "outputs": [
    {
     "name": "stdout",
     "output_type": "stream",
     "text": [
      "Team_1 won 8 simulations!\n"
     ]
    }
   ],
   "source": [
    "\"\"\"Example of a battle simulation between two pokemon teams.\"\"\"\n",
    "\n",
    "charmander = Pokemon('Charmander', 100, 30, 4, 10, Fire_type)\n",
    "bulbasor = Pokemon('Bulbasor', 100, 40, 3, 15, Grass_type)\n",
    "squirtle = Pokemon('Squirte',100, 25, 2, 20, Water_type)\n",
    "\n",
    "team1_pokemons = [charmander.copy(), bulbasor.copy(), squirtle.copy()]\n",
    "team2_pokemons = [squirtle.copy(), bulbasor.copy(), charmander.copy()]\n",
    "\n",
    "team1 = PokemonTeam(team1_pokemons)\n",
    "team2 = PokemonTeam(team2_pokemons)\n",
    "\n",
    "\n",
    "TB = TeamBattle()\n",
    "for i in range(0, 10):\n",
    "    team1.add_score(TB.simulate_battle(team1, team2, 100))\n",
    "print(\"Team_1 won {0} simulations!\".format(team1.score))"
   ]
  },
  {
   "cell_type": "code",
   "execution_count": 8,
   "metadata": {},
   "outputs": [
    {
     "name": "stdout",
     "output_type": "stream",
     "text": [
      "dream_team won against 72 teams!\n"
     ]
    }
   ],
   "source": [
    "\"\"\"Example of a simulation of a single individual versus 100 randomly generated teams.\"\"\"\n",
    "\n",
    "charmander = Pokemon('Charmander', 100, 30, 4, 10, Fire_type)\n",
    "bulbasor = Pokemon('Bulbasor', 95, 40, 3, 15, Grass_type)\n",
    "squirtle = Pokemon('Squirte',110, 25, 2, 20, Water_type)\n",
    "pikachu = Pokemon('Pikachu', 90, 30, 6, 10, Electric_type)\n",
    "pidgey = Pokemon('Pidgey', 90, 25, 8, 10, Flying_type)\n",
    "ratatta = Pokemon('Ratatta', 80, 25, 7, 12, Normal_type)\n",
    "caterprie = Pokemon('Caterprie', 60, 15, 3, 10, Bug_type)\n",
    "\n",
    "pokemon_pool = [charmander, bulbasor, squirtle, pikachu, pidgey, ratatta, caterprie]\n",
    "\n",
    "dream_team = PokemonTeam([charmander.copy(), bulbasor.copy(), pikachu.copy(),\n",
    "                          pidgey.copy(), squirtle.copy(), caterprie.copy()])\n",
    "\n",
    "enemy_teams = [PokemonTeam([random.choice(pokemon_pool).copy() for x in range(6)]) for n in range(100)]\n",
    "\n",
    "TB = TeamBattle()\n",
    "\n",
    "for team in enemy_teams:\n",
    "    dream_team.add_score(TB.simulate_battle(dream_team, team, 100))\n",
    "\n",
    "print(\"dream_team won against {0} teams!\".format(dream_team.score))"
   ]
  },
  {
   "cell_type": "markdown",
   "metadata": {},
   "source": [
    "## Modelado de la Simulación"
   ]
  },
  {
   "cell_type": "code",
   "execution_count": 9,
   "metadata": {},
   "outputs": [],
   "source": [
    "class BreedingCentre:\n",
    "    def __init__(self):\n",
    "        self.pokemons = {}\n",
    "        stats = open(\"stats.csv\",\"r\")\n",
    "        next(stats)\n",
    "        for line in stats:\n",
    "            line = line.split(\",\")\n",
    "            name = line[0]\n",
    "            pokemonType = line[1]\n",
    "            health = int(line[2])\n",
    "            attack = int(line[3])\n",
    "            defense = int(line[4])\n",
    "            speed = int(line[5])\n",
    "            self.pokemons[name] = Pokemon(name, health, attack, defense, speed, PokemonTypes.get(pokemonType))\n",
    "        stats.close()\n",
    "            \n",
    "    def form_team(self):\n",
    "        names = list(self.pokemons.keys())\n",
    "        pokeTeam = []\n",
    "        for i in range(6):\n",
    "            pokemon = self.pokemons[random.choice(names)]\n",
    "            pokeTeam.append(pokemon.copy())\n",
    "        return PokemonTeam(pokeTeam)"
   ]
  },
  {
   "cell_type": "code",
   "execution_count": 10,
   "metadata": {},
   "outputs": [],
   "source": [
    "class Simulation:\n",
    "    def __init__(self):\n",
    "        # TO DO: gym_leaders.\n",
    "        self.breeding_centre = BreedingCentre()\n",
    "        self.gym_leaders = []\n",
    "        self.generations = {}\n",
    "        self.current_gen = self.create_first_gen();\n",
    "        \n",
    "    def create_first_gen(self):\n",
    "        return [self.breeding_centre.form_team() for x in range(100)]\n",
    "    \n",
    "    def create_next_gen(self):\n",
    "        self.current_gen = sorted(self.current_gen, key=lambda team: team.score, reverse=True)[:50]\n",
    "        for team in self.current_gen:\n",
    "            team.score = 0\n",
    "        \n",
    "        # We create 40 new teams merging 3 pokemons from one team and 3 from another, from the top 50 teams of\n",
    "        # the past gen.\n",
    "        \n",
    "        descendants=[]\n",
    "        \n",
    "        for i in range(40):\n",
    "            j = random.randint(0,50)\n",
    "            team1 = current_gen[j]\n",
    "            j = random.randint(0,50)\n",
    "            team2 = current_gen[j]\n",
    "            new_team = team1.merge_team(team2)\n",
    "            descendants.append(new_team)\n",
    "            \n",
    "\n",
    "        # We create 10 additional randomly generated teams.\n",
    "        self.current_gen.extend(self.breeding_centre.form_team() for x in range(10))\n",
    "        \n",
    "    def run_simulation(self, num_simulations):\n",
    "        TB = TeamBattle()\n",
    "        # We create 50 randomly generated enemy teams.\n",
    "        enemy_teams = [self.breeding_centre.form_team() for n in range(50)]\n",
    "        generation_score = 0\n",
    "        for team in self.current_gen:\n",
    "            for enemy_team in enemy_teams:\n",
    "                team.add_score(TB.simulate_battle(team, enemy_team, num_simulations))\n",
    "                #print(team.score)\n",
    "            generation_score += team.score\n",
    "        self.generations[len(self.generations)] = generation_score\n",
    "        \n",
    "    def show_current_gen(self):\n",
    "        # For debugging purposes, we'll only show the best team of each generation\n",
    "        current_gen = sorted(self.current_gen, key=lambda team: team.score, reverse=True)[:1]\n",
    "        return current_gen\n",
    "            \n",
    "    def show_scores(self):\n",
    "        scores = sorted(self.generations.items(), key=lambda x: x[1], reverse=True)\n",
    "        return scores"
   ]
  },
  {
   "cell_type": "code",
   "execution_count": 11,
   "metadata": {},
   "outputs": [
    {
     "ename": "KeyboardInterrupt",
     "evalue": "",
     "output_type": "error",
     "traceback": [
      "\u001b[0;31m---------------------------------------------------------------------------\u001b[0m",
      "\u001b[0;31mKeyboardInterrupt\u001b[0m                         Traceback (most recent call last)",
      "\u001b[0;32m<ipython-input-11-aac392af8add>\u001b[0m in \u001b[0;36m<module>\u001b[0;34m()\u001b[0m\n\u001b[1;32m      1\u001b[0m \u001b[0;34m\"\"\"Example of a simulation using the Simulation class\"\"\"\u001b[0m\u001b[0;34m\u001b[0m\u001b[0m\n\u001b[1;32m      2\u001b[0m \u001b[0msim\u001b[0m \u001b[0;34m=\u001b[0m \u001b[0mSimulation\u001b[0m\u001b[0;34m(\u001b[0m\u001b[0;34m)\u001b[0m\u001b[0;34m\u001b[0m\u001b[0m\n\u001b[0;32m----> 3\u001b[0;31m \u001b[0msim\u001b[0m\u001b[0;34m.\u001b[0m\u001b[0mrun_simulation\u001b[0m\u001b[0;34m(\u001b[0m\u001b[0;36m1\u001b[0m\u001b[0;34m)\u001b[0m\u001b[0;34m\u001b[0m\u001b[0m\n\u001b[0m\u001b[1;32m      4\u001b[0m \u001b[0;34m\u001b[0m\u001b[0m\n",
      "\u001b[0;32m<ipython-input-10-481998c0016c>\u001b[0m in \u001b[0;36mrun_simulation\u001b[0;34m(self, num_simulations)\u001b[0m\n\u001b[1;32m     39\u001b[0m         \u001b[0;32mfor\u001b[0m \u001b[0mteam\u001b[0m \u001b[0;32min\u001b[0m \u001b[0mself\u001b[0m\u001b[0;34m.\u001b[0m\u001b[0mcurrent_gen\u001b[0m\u001b[0;34m:\u001b[0m\u001b[0;34m\u001b[0m\u001b[0m\n\u001b[1;32m     40\u001b[0m             \u001b[0;32mfor\u001b[0m \u001b[0menemy_team\u001b[0m \u001b[0;32min\u001b[0m \u001b[0menemy_teams\u001b[0m\u001b[0;34m:\u001b[0m\u001b[0;34m\u001b[0m\u001b[0m\n\u001b[0;32m---> 41\u001b[0;31m                 \u001b[0mteam\u001b[0m\u001b[0;34m.\u001b[0m\u001b[0madd_score\u001b[0m\u001b[0;34m(\u001b[0m\u001b[0mTB\u001b[0m\u001b[0;34m.\u001b[0m\u001b[0msimulate_battle\u001b[0m\u001b[0;34m(\u001b[0m\u001b[0mteam\u001b[0m\u001b[0;34m,\u001b[0m \u001b[0menemy_team\u001b[0m\u001b[0;34m,\u001b[0m \u001b[0mnum_simulations\u001b[0m\u001b[0;34m)\u001b[0m\u001b[0;34m)\u001b[0m\u001b[0;34m\u001b[0m\u001b[0m\n\u001b[0m\u001b[1;32m     42\u001b[0m                 \u001b[0;31m#print(team.score)\u001b[0m\u001b[0;34m\u001b[0m\u001b[0;34m\u001b[0m\u001b[0m\n\u001b[1;32m     43\u001b[0m             \u001b[0mgeneration_score\u001b[0m \u001b[0;34m+=\u001b[0m \u001b[0mteam\u001b[0m\u001b[0;34m.\u001b[0m\u001b[0mscore\u001b[0m\u001b[0;34m\u001b[0m\u001b[0m\n",
      "\u001b[0;32m<ipython-input-6-361a5031934f>\u001b[0m in \u001b[0;36msimulate_battle\u001b[0;34m(self, team1, team2, number_simulations)\u001b[0m\n\u001b[1;32m     18\u001b[0m                 \u001b[0mselected_pokemon_team1\u001b[0m \u001b[0;34m=\u001b[0m \u001b[0mteam1_copy\u001b[0m\u001b[0;34m.\u001b[0m\u001b[0mget_random_pokemon\u001b[0m\u001b[0;34m(\u001b[0m\u001b[0;34m)\u001b[0m\u001b[0;34m\u001b[0m\u001b[0m\n\u001b[1;32m     19\u001b[0m                 \u001b[0mselected_pokemon_team2\u001b[0m \u001b[0;34m=\u001b[0m \u001b[0mteam2_copy\u001b[0m\u001b[0;34m.\u001b[0m\u001b[0mget_random_pokemon\u001b[0m\u001b[0;34m(\u001b[0m\u001b[0;34m)\u001b[0m\u001b[0;34m\u001b[0m\u001b[0m\n\u001b[0;32m---> 20\u001b[0;31m                 \u001b[0mindividual_battle\u001b[0m\u001b[0;34m.\u001b[0m\u001b[0msimulate_battle\u001b[0m\u001b[0;34m(\u001b[0m\u001b[0mselected_pokemon_team1\u001b[0m\u001b[0;34m,\u001b[0m \u001b[0mselected_pokemon_team2\u001b[0m\u001b[0;34m)\u001b[0m\u001b[0;34m\u001b[0m\u001b[0m\n\u001b[0m\u001b[1;32m     21\u001b[0m             \u001b[0;32mif\u001b[0m\u001b[0;34m(\u001b[0m\u001b[0mteam1_copy\u001b[0m\u001b[0;34m.\u001b[0m\u001b[0mis_alive\u001b[0m\u001b[0;34m(\u001b[0m\u001b[0;34m)\u001b[0m\u001b[0;34m)\u001b[0m\u001b[0;34m:\u001b[0m\u001b[0;34m\u001b[0m\u001b[0m\n\u001b[1;32m     22\u001b[0m                 \u001b[0mteam1_won\u001b[0m \u001b[0;34m+=\u001b[0m \u001b[0;36m1\u001b[0m\u001b[0;34m\u001b[0m\u001b[0m\n",
      "\u001b[0;32m<ipython-input-4-15d3bd2f5cd8>\u001b[0m in \u001b[0;36msimulate_battle\u001b[0;34m(self, pokemon1, pokemon2)\u001b[0m\n\u001b[1;32m     15\u001b[0m                 \u001b[0mattacker\u001b[0m \u001b[0;34m=\u001b[0m \u001b[0mpokemon2\u001b[0m\u001b[0;34m\u001b[0m\u001b[0m\n\u001b[1;32m     16\u001b[0m         \u001b[0mdefensor\u001b[0m \u001b[0;34m=\u001b[0m \u001b[0;34m(\u001b[0m\u001b[0mpokemon1\u001b[0m \u001b[0;32mif\u001b[0m \u001b[0mattacker\u001b[0m \u001b[0;34m==\u001b[0m \u001b[0mpokemon2\u001b[0m \u001b[0;32melse\u001b[0m \u001b[0mpokemon2\u001b[0m\u001b[0;34m)\u001b[0m\u001b[0;34m\u001b[0m\u001b[0m\n\u001b[0;32m---> 17\u001b[0;31m         \u001b[0;32mwhile\u001b[0m\u001b[0;34m(\u001b[0m\u001b[0mpokemon1\u001b[0m\u001b[0;34m.\u001b[0m\u001b[0mis_alive\u001b[0m\u001b[0;34m(\u001b[0m\u001b[0;34m)\u001b[0m \u001b[0;32mand\u001b[0m \u001b[0mpokemon2\u001b[0m\u001b[0;34m.\u001b[0m\u001b[0mis_alive\u001b[0m\u001b[0;34m(\u001b[0m\u001b[0;34m)\u001b[0m\u001b[0;34m)\u001b[0m\u001b[0;34m:\u001b[0m\u001b[0;34m\u001b[0m\u001b[0m\n\u001b[0m\u001b[1;32m     18\u001b[0m             \u001b[0mdamage\u001b[0m \u001b[0;34m=\u001b[0m \u001b[0mattacker\u001b[0m\u001b[0;34m.\u001b[0m\u001b[0matk\u001b[0m \u001b[0;34m*\u001b[0m \u001b[0mattacker\u001b[0m\u001b[0;34m.\u001b[0m\u001b[0mpokemonType\u001b[0m\u001b[0;34m.\u001b[0m\u001b[0mget_multiplier\u001b[0m\u001b[0;34m(\u001b[0m\u001b[0mdefensor\u001b[0m\u001b[0;34m.\u001b[0m\u001b[0mpokemonType\u001b[0m\u001b[0;34m)\u001b[0m \u001b[0;34m-\u001b[0m \u001b[0mdefensor\u001b[0m\u001b[0;34m.\u001b[0m\u001b[0mdefense\u001b[0m\u001b[0;34m\u001b[0m\u001b[0m\n\u001b[1;32m     19\u001b[0m             \u001b[0mdefensor\u001b[0m\u001b[0;34m.\u001b[0m\u001b[0mhp\u001b[0m \u001b[0;34m-=\u001b[0m \u001b[0mdamage\u001b[0m \u001b[0;32mif\u001b[0m \u001b[0;34m(\u001b[0m\u001b[0mdamage\u001b[0m \u001b[0;34m>=\u001b[0m \u001b[0;36m0\u001b[0m\u001b[0;34m)\u001b[0m \u001b[0;32melse\u001b[0m \u001b[0;36m0\u001b[0m\u001b[0;34m\u001b[0m\u001b[0m\n",
      "\u001b[0;32m<ipython-input-2-fa3daeb43a5f>\u001b[0m in \u001b[0;36mis_alive\u001b[0;34m(self)\u001b[0m\n\u001b[1;32m     20\u001b[0m \u001b[0;34m\u001b[0m\u001b[0m\n\u001b[1;32m     21\u001b[0m     \u001b[0;32mdef\u001b[0m \u001b[0mis_alive\u001b[0m\u001b[0;34m(\u001b[0m\u001b[0mself\u001b[0m\u001b[0;34m)\u001b[0m\u001b[0;34m:\u001b[0m\u001b[0;34m\u001b[0m\u001b[0m\n\u001b[0;32m---> 22\u001b[0;31m         \u001b[0;32mreturn\u001b[0m \u001b[0;34m(\u001b[0m\u001b[0mself\u001b[0m\u001b[0;34m.\u001b[0m\u001b[0mhp\u001b[0m \u001b[0;34m>\u001b[0m \u001b[0;36m0\u001b[0m\u001b[0;34m)\u001b[0m\u001b[0;34m\u001b[0m\u001b[0m\n\u001b[0m",
      "\u001b[0;31mKeyboardInterrupt\u001b[0m: "
     ]
    }
   ],
   "source": [
    "\"\"\"Example of a simulation using the Simulation class\"\"\"\n",
    "sim = Simulation()\n",
    "sim.run_simulation(1)\n",
    "    "
   ]
  }
 ],
 "metadata": {
  "kernelspec": {
   "display_name": "Python 3",
   "language": "python",
   "name": "python3"
  },
  "language_info": {
   "codemirror_mode": {
    "name": "ipython",
    "version": 3
   },
   "file_extension": ".py",
   "mimetype": "text/x-python",
   "name": "python",
   "nbconvert_exporter": "python",
   "pygments_lexer": "ipython3",
   "version": "3.5.2"
  }
 },
 "nbformat": 4,
 "nbformat_minor": 2
}
